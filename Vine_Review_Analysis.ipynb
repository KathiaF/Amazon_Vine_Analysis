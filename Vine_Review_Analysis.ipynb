{
  "nbformat": 4,
  "nbformat_minor": 0,
  "metadata": {
    "colab": {
      "name": "Vine_Review_Analysis.ipynb",
      "provenance": []
    },
    "kernelspec": {
      "name": "python3",
      "display_name": "Python 3"
    },
    "nteract": {
      "version": "0.12.3"
    },
    "language_info": {
      "name": "python"
    }
  },
  "cells": [
    {
      "cell_type": "code",
      "metadata": {
        "id": "V58rxea0HqSa",
        "colab": {
          "base_uri": "https://localhost:8080/"
        },
        "outputId": "b2a0a8d3-792e-4a7e-b36b-255f942a0837"
      },
      "source": [
        "import os\n",
        "# Find the latest version of spark 3.0 from http://www.apache.org/dist/spark/ and enter as the spark version\n",
        "# For example:\n",
        "# spark_version = 'spark-3.0.3'\n",
        "spark_version = 'spark-3.0.3'\n",
        "os.environ['SPARK_VERSION']=spark_version\n",
        "\n",
        "# Install Spark and Java\n",
        "!apt-get update\n",
        "!apt-get install openjdk-11-jdk-headless -qq > /dev/null\n",
        "!wget -q http://www.apache.org/dist/spark/$SPARK_VERSION/$SPARK_VERSION-bin-hadoop2.7.tgz\n",
        "!tar xf $SPARK_VERSION-bin-hadoop2.7.tgz\n",
        "!pip install -q findspark\n",
        "\n",
        "# Set Environment Variables\n",
        "import os\n",
        "os.environ[\"JAVA_HOME\"] = \"/usr/lib/jvm/java-11-openjdk-amd64\"\n",
        "os.environ[\"SPARK_HOME\"] = f\"/content/{spark_version}-bin-hadoop2.7\"\n",
        "\n",
        "# Start a SparkSession\n",
        "import findspark\n",
        "findspark.init()"
      ],
      "execution_count": 20,
      "outputs": [
        {
          "output_type": "stream",
          "name": "stdout",
          "text": [
            "\r0% [Working]\r            \rGet:1 http://security.ubuntu.com/ubuntu bionic-security InRelease [88.7 kB]\n",
            "\r0% [Waiting for headers] [1 InRelease 14.2 kB/88.7 kB 16%] [Connected to cloud.\r                                                                               \rHit:2 https://developer.download.nvidia.com/compute/cuda/repos/ubuntu1804/x86_64  InRelease\n",
            "\r0% [Waiting for headers] [1 InRelease 14.2 kB/88.7 kB 16%] [Connected to cloud.\r                                                                               \rHit:3 http://archive.ubuntu.com/ubuntu bionic InRelease\n",
            "\r0% [Waiting for headers] [1 InRelease 14.2 kB/88.7 kB 16%] [Connected to cloud.\r0% [2 InRelease gpgv 1,575 B] [Waiting for headers] [1 InRelease 14.2 kB/88.7 k\r                                                                               \rGet:4 http://archive.ubuntu.com/ubuntu bionic-updates InRelease [88.7 kB]\n",
            "Ign:5 https://developer.download.nvidia.com/compute/machine-learning/repos/ubuntu1804/x86_64  InRelease\n",
            "Get:6 https://cloud.r-project.org/bin/linux/ubuntu bionic-cran40/ InRelease [3,626 B]\n",
            "Hit:7 https://developer.download.nvidia.com/compute/machine-learning/repos/ubuntu1804/x86_64  Release\n",
            "Hit:8 http://ppa.launchpad.net/c2d4u.team/c2d4u4.0+/ubuntu bionic InRelease\n",
            "Get:9 http://archive.ubuntu.com/ubuntu bionic-backports InRelease [74.6 kB]\n",
            "Hit:10 http://ppa.launchpad.net/cran/libgit2/ubuntu bionic InRelease\n",
            "Hit:11 http://ppa.launchpad.net/deadsnakes/ppa/ubuntu bionic InRelease\n",
            "Hit:12 http://ppa.launchpad.net/graphics-drivers/ppa/ubuntu bionic InRelease\n",
            "Fetched 256 kB in 2s (108 kB/s)\n",
            "Reading package lists... Done\n"
          ]
        }
      ]
    },
    {
      "cell_type": "code",
      "metadata": {
        "id": "_xKwTpATHqSe",
        "colab": {
          "base_uri": "https://localhost:8080/"
        },
        "outputId": "ce630003-9b7d-42ca-9111-6dd49e440d7c"
      },
      "source": [
        "# Download the Postgres driver that will allow Spark to interact with Postgres.\n",
        "!wget https://jdbc.postgresql.org/download/postgresql-42.2.16.jar"
      ],
      "execution_count": 21,
      "outputs": [
        {
          "output_type": "stream",
          "name": "stdout",
          "text": [
            "--2022-05-09 05:29:07--  https://jdbc.postgresql.org/download/postgresql-42.2.16.jar\n",
            "Resolving jdbc.postgresql.org (jdbc.postgresql.org)... 72.32.157.228, 2001:4800:3e1:1::228\n",
            "Connecting to jdbc.postgresql.org (jdbc.postgresql.org)|72.32.157.228|:443... connected.\n",
            "HTTP request sent, awaiting response... 200 OK\n",
            "Length: 1002883 (979K) [application/java-archive]\n",
            "Saving to: ‘postgresql-42.2.16.jar.2’\n",
            "\n",
            "postgresql-42.2.16. 100%[===================>] 979.38K  --.-KB/s    in 0.1s    \n",
            "\n",
            "2022-05-09 05:29:07 (6.47 MB/s) - ‘postgresql-42.2.16.jar.2’ saved [1002883/1002883]\n",
            "\n"
          ]
        }
      ]
    },
    {
      "cell_type": "code",
      "metadata": {
        "id": "MMqDAjVS0KN9"
      },
      "source": [
        "from pyspark.sql import SparkSession\n",
        "spark = SparkSession.builder.appName(\"M16-Amazon-Challenge-D2\").config(\"spark.driver.extraClassPath\",\"/content/postgresql-42.2.16.jar\").getOrCreate()"
      ],
      "execution_count": 22,
      "outputs": []
    },
    {
      "cell_type": "markdown",
      "metadata": {
        "id": "cyBsySGuY-9V"
      },
      "source": [
        "### Load Amazon Data into Spark DataFrame"
      ]
    },
    {
      "cell_type": "code",
      "metadata": {
        "id": "CtCmBhQJY-9Z",
        "colab": {
          "base_uri": "https://localhost:8080/"
        },
        "outputId": "db9d30fb-1b70-418e-cdb9-a81d7216fa7e"
      },
      "source": [
        "from pyspark import SparkFiles\n",
        "url = \"https://s3.amazonaws.com/amazon-reviews-pds/tsv/amazon_reviews_us_Beauty_v1_00.tsv.gz\"\n",
        "spark.sparkContext.addFile(url)\n",
        "df = spark.read.option(\"encoding\", \"UTF-8\").csv(SparkFiles.get(\"\"), sep=\"\\t\", header=True, inferSchema=True)\n",
        "df.show()"
      ],
      "execution_count": 23,
      "outputs": [
        {
          "output_type": "stream",
          "name": "stdout",
          "text": [
            "+-----------+-----------+--------------+----------+--------------+--------------------+----------------+-----------+-------------+-----------+----+-----------------+--------------------+---------------------+-----------+\n",
            "|marketplace|customer_id|     review_id|product_id|product_parent|       product_title|product_category|star_rating|helpful_votes|total_votes|vine|verified_purchase|     review_headline|          review_body|review_date|\n",
            "+-----------+-----------+--------------+----------+--------------+--------------------+----------------+-----------+-------------+-----------+----+-----------------+--------------------+---------------------+-----------+\n",
            "|         US|    1797882|R3I2DHQBR577SS|B001ANOOOE|       2102612|The Naked Bee Vit...|          Beauty|          5|            0|          0|   N|                Y|          Five Stars| Love this, excell...| 2015-08-31|\n",
            "|         US|   18381298|R1QNE9NQFJC2Y4|B0016J22EQ|     106393691|Alba Botanica Sun...|          Beauty|          5|            0|          0|   N|                Y|Thank you Alba Bo...| The great thing a...| 2015-08-31|\n",
            "|         US|   19242472|R3LIDG2Q4LJBAO|B00HU6UQAG|     375449471|Elysee Infusion S...|          Beauty|          5|            0|          0|   N|                Y|          Five Stars| Great Product, I'...| 2015-08-31|\n",
            "|         US|   19551372|R3KSZHPAEVPEAL|B002HWS7RM|     255651889|Diane D722 Color,...|          Beauty|          5|            0|          0|   N|                Y|          GOOD DEAL!| I use them as sho...| 2015-08-31|\n",
            "|         US|   14802407| RAI2OIG50KZ43|B00SM99KWU|     116158747|Biore UV Aqua Ric...|          Beauty|          5|            0|          0|   N|                Y|this soaks in qui...| This is my go-to ...| 2015-08-31|\n",
            "|         US|    2909389|R1R30FA4RB5P54|B000NYL1Z6|     166146615|Murad Clarifying ...|          Beauty|          4|            0|          0|   N|                Y|          Four Stars|                 Good| 2015-08-31|\n",
            "|         US|   19397215|R30IJKCGJBGPJH|B001SYWTFG|     111742328|CoverGirl Queen C...|          Beauty|          5|            0|          0|   N|                Y|            Good buy| Great eyeliner, d...| 2015-08-31|\n",
            "|         US|    3195210|R18GLJJPVQ1OVH|B005F2EVMQ|     255803087|Bifesta Mandom Ey...|          Beauty|          5|            0|          0|   N|                Y|          Five Stars|Best makeup remover！| 2015-08-31|\n",
            "|         US|   52216383| R8TVYIJXLYJT0|B00M1SUW7K|     246816549|Can You Handlebar...|          Beauty|          5|            0|          0|   N|                Y|Tame the wild mus...| This is a great p...| 2015-08-31|\n",
            "|         US|   10278216|R1CJGF6M3PVHEZ|B001KYQA1S|       9612905|Maybelline Great ...|          Beauty|          1|            0|          2|   N|                Y|but it's like hav...| I thought it woul...| 2015-08-31|\n",
            "|         US|   24655453|R2A30ALEGLMCGN|B00SAQ9DZY|     292127037|12 New, High Qual...|          Beauty|          4|            1|          1|   N|                Y|        Good Product| These are great f...| 2015-08-31|\n",
            "|         US|   30788223|R134GP1Y3EQZ1L|B00HFQQ0VU|     311309827|Waterpik Aquarius...|          Beauty|          5|            0|          0|   N|                Y| Optimum Oral Health| Just got this.  N...| 2015-08-31|\n",
            "|         US|   11257536| R6CE3SOIUJGP4|B00PYL8MAA|     390030149|Proganix Agave Ne...|          Beauty|          4|            1|          1|   N|                N|   Love this cream !| Wish I had discov...| 2015-08-31|\n",
            "|         US|   29605778|R37CDLQZUPDZVM|B00D9NV2D4|     794858888|         Shea Butter|          Beauty|          5|            0|          0|   N|                Y|It works so much ...| I bought this to ...| 2015-08-31|\n",
            "|         US|   41238422|R1KH9XCK6GYT26|B008Y9M412|     874223919|Etude House Fresh...|          Beauty|          5|            0|          0|   N|                Y|          Five Stars| The tint is aweso...| 2015-08-31|\n",
            "|         US|   23620123|R3I4BQ6654MQNA|B00FWXBLHG|     464001209|Vintage Lil' Spon...|          Beauty|          5|            1|          1|   N|                Y|Great product, fa...| I'm in love with ...| 2015-08-31|\n",
            "|         US|   25564245|R3LUPG356F1D40|B003KL8CB0|     328680790|Jenna Jameson Hea...|          Beauty|          5|            3|          3|   N|                N|Does not smell ch...| I was given this ...| 2015-08-31|\n",
            "|         US|     801375|R3HNVRTHL9S2ZB|B006R2LNV0|     620737389|Korean Cosmetics_...|          Beauty|          5|            0|          0|   N|                N|          Five Stars| Magical everybody...| 2015-08-31|\n",
            "|         US|    9478730| R5HKL5RD4IUT8|B00SMIIR0W|     351973146|Schick Hydro Silk...|          Beauty|          5|            0|          0|   N|                Y|Love this Razor/T...| Works fantastic! ...| 2015-08-31|\n",
            "|         US|   18418407|R37Z8NBTHPR853|B003UKKH6O|      10034795|Oral-B Vitality P...|          Beauty|          5|            0|          0|   N|                Y|          Five Stars| excellent battery...| 2015-08-31|\n",
            "+-----------+-----------+--------------+----------+--------------+--------------------+----------------+-----------+-------------+-----------+----+-----------------+--------------------+---------------------+-----------+\n",
            "only showing top 20 rows\n",
            "\n"
          ]
        }
      ]
    },
    {
      "cell_type": "markdown",
      "metadata": {
        "id": "2yUSe55VY-9t"
      },
      "source": [
        "### Create DataFrames to match tables"
      ]
    },
    {
      "cell_type": "code",
      "metadata": {
        "id": "lzMmkdKmY--D",
        "colab": {
          "base_uri": "https://localhost:8080/"
        },
        "outputId": "7e98c5ac-8061-48a4-aab2-734e034d5cad"
      },
      "source": [
        "# Create the vine_table. DataFrame\n",
        "vine_df = df.select([\"review_id\",\"star_rating\",\"helpful_votes\",\"total_votes\",\"vine\",\"verified_purchase\"])\n",
        "vine_df.show()"
      ],
      "execution_count": 24,
      "outputs": [
        {
          "output_type": "stream",
          "name": "stdout",
          "text": [
            "+--------------+-----------+-------------+-----------+----+-----------------+\n",
            "|     review_id|star_rating|helpful_votes|total_votes|vine|verified_purchase|\n",
            "+--------------+-----------+-------------+-----------+----+-----------------+\n",
            "|R3I2DHQBR577SS|          5|            0|          0|   N|                Y|\n",
            "|R1QNE9NQFJC2Y4|          5|            0|          0|   N|                Y|\n",
            "|R3LIDG2Q4LJBAO|          5|            0|          0|   N|                Y|\n",
            "|R3KSZHPAEVPEAL|          5|            0|          0|   N|                Y|\n",
            "| RAI2OIG50KZ43|          5|            0|          0|   N|                Y|\n",
            "|R1R30FA4RB5P54|          4|            0|          0|   N|                Y|\n",
            "|R30IJKCGJBGPJH|          5|            0|          0|   N|                Y|\n",
            "|R18GLJJPVQ1OVH|          5|            0|          0|   N|                Y|\n",
            "| R8TVYIJXLYJT0|          5|            0|          0|   N|                Y|\n",
            "|R1CJGF6M3PVHEZ|          1|            0|          2|   N|                Y|\n",
            "|R2A30ALEGLMCGN|          4|            1|          1|   N|                Y|\n",
            "|R134GP1Y3EQZ1L|          5|            0|          0|   N|                Y|\n",
            "| R6CE3SOIUJGP4|          4|            1|          1|   N|                N|\n",
            "|R37CDLQZUPDZVM|          5|            0|          0|   N|                Y|\n",
            "|R1KH9XCK6GYT26|          5|            0|          0|   N|                Y|\n",
            "|R3I4BQ6654MQNA|          5|            1|          1|   N|                Y|\n",
            "|R3LUPG356F1D40|          5|            3|          3|   N|                N|\n",
            "|R3HNVRTHL9S2ZB|          5|            0|          0|   N|                N|\n",
            "| R5HKL5RD4IUT8|          5|            0|          0|   N|                Y|\n",
            "|R37Z8NBTHPR853|          5|            0|          0|   N|                Y|\n",
            "+--------------+-----------+-------------+-----------+----+-----------------+\n",
            "only showing top 20 rows\n",
            "\n"
          ]
        }
      ]
    },
    {
      "cell_type": "code",
      "source": [
        "vine_df"
      ],
      "metadata": {
        "colab": {
          "base_uri": "https://localhost:8080/"
        },
        "id": "DXc_cVAJbeKX",
        "outputId": "8c45df84-85d3-49a2-a186-fc838e9d12df"
      },
      "execution_count": 25,
      "outputs": [
        {
          "output_type": "execute_result",
          "data": {
            "text/plain": [
              "DataFrame[review_id: string, star_rating: string, helpful_votes: int, total_votes: int, vine: string, verified_purchase: string]"
            ]
          },
          "metadata": {},
          "execution_count": 25
        }
      ]
    },
    {
      "cell_type": "code",
      "source": [
        "#from pyspark.sql.types import IntegerType\n",
        "#vine_df = vine_df.withColumn(\"star_rating\", vine_df[\"star_rating\"].cast(IntegerType()))"
      ],
      "metadata": {
        "id": "FkkfFBvsbkU9"
      },
      "execution_count": 9,
      "outputs": []
    },
    {
      "cell_type": "code",
      "metadata": {
        "id": "Exuo6ebUsCqW",
        "colab": {
          "base_uri": "https://localhost:8080/"
        },
        "outputId": "dab61b1f-56be-4666-d215-0aae12f37f2f"
      },
      "source": [
        "# Filter the data and create a new DataFrame or table to retrieve \n",
        "#all the rows where the total_votes count is equal to or greater than 20 \n",
        "\n",
        "vine_filtered_df = vine_df.filter(df.total_votes >= 20)\n",
        "print(vine_filtered_df.count())\n",
        "vine_filtered_df.show()"
      ],
      "execution_count": 26,
      "outputs": [
        {
          "output_type": "stream",
          "name": "stdout",
          "text": [
            "79227\n",
            "+--------------+-----------+-------------+-----------+----+-----------------+\n",
            "|     review_id|star_rating|helpful_votes|total_votes|vine|verified_purchase|\n",
            "+--------------+-----------+-------------+-----------+----+-----------------+\n",
            "|R2QRUE9REK8OUC|          5|           18|         23|   N|                Y|\n",
            "|R2POXRW6PXHXZG|          5|           25|         30|   N|                Y|\n",
            "| RZN43XRZ89IIJ|          3|           10|         27|   N|                N|\n",
            "|R29Q748WSHZ3SN|          5|           23|         24|   N|                Y|\n",
            "| R46UL5G5HEPRZ|          5|           18|         20|   N|                N|\n",
            "|R2UQHSNWU6WTZX|          5|           74|         76|   N|                N|\n",
            "|R2HSRI3D6E2M9Y|          5|           69|         71|   N|                Y|\n",
            "|R17ARFSDV555EW|          1|           29|         29|   N|                Y|\n",
            "|R3GL5156FFEDQA|          5|           20|         21|   N|                Y|\n",
            "|R29KQJC9PIYWQS|          5|           25|         26|   N|                Y|\n",
            "| RYWUJT2A33VJH|          5|           20|         22|   N|                N|\n",
            "|R1KH5L45CWI30I|          5|           19|         20|   N|                N|\n",
            "|R1RKEBF47UEIVH|          5|           26|         30|   N|                N|\n",
            "|R3N1SCGIU1LV1U|          1|            2|         20|   N|                Y|\n",
            "|R2WIB8BHF77XIG|          4|           69|         78|   N|                N|\n",
            "|R20T4C0DA38YBD|          5|           22|         23|   N|                Y|\n",
            "| REUKY9DLNJXYF|          4|           21|         22|   N|                Y|\n",
            "|R2OH5QLD7MGJTG|          5|           48|         48|   N|                Y|\n",
            "|R179M7NOS1365W|          5|           88|         91|   N|                Y|\n",
            "|R2NPNCGM6T1JBA|          3|          253|        259|   N|                Y|\n",
            "+--------------+-----------+-------------+-----------+----+-----------------+\n",
            "only showing top 20 rows\n",
            "\n"
          ]
        }
      ]
    },
    {
      "cell_type": "code",
      "source": [
        "# Filter the DataFrame created in Step above and create a new DataFrame \n",
        "#  to retrieve all the rows where \n",
        "# the number of helpful_votes divided by total_votes is equal to or greater than 50%.\n",
        "\n",
        "#create a new DataFrame to retrieve all the rows where the number of helpful_votes divided by total_votes is equal to or greater than 50%.\n",
        "vine_filtered_df_2 =  vine_filtered_df.filter((vine_filtered_df.helpful_votes / vine_filtered_df.total_votes) >= 0.5)\n",
        "print(vine_filtered_df_2.count())\n",
        "vine_filtered_df_2.show()"
      ],
      "metadata": {
        "colab": {
          "base_uri": "https://localhost:8080/"
        },
        "id": "LpAmpkwvNV50",
        "outputId": "4fb3f677-0bb0-4589-f63e-01498855ff48"
      },
      "execution_count": 27,
      "outputs": [
        {
          "output_type": "stream",
          "name": "stdout",
          "text": [
            "74760\n",
            "+--------------+-----------+-------------+-----------+----+-----------------+\n",
            "|     review_id|star_rating|helpful_votes|total_votes|vine|verified_purchase|\n",
            "+--------------+-----------+-------------+-----------+----+-----------------+\n",
            "|R2QRUE9REK8OUC|          5|           18|         23|   N|                Y|\n",
            "|R2POXRW6PXHXZG|          5|           25|         30|   N|                Y|\n",
            "|R29Q748WSHZ3SN|          5|           23|         24|   N|                Y|\n",
            "| R46UL5G5HEPRZ|          5|           18|         20|   N|                N|\n",
            "|R2UQHSNWU6WTZX|          5|           74|         76|   N|                N|\n",
            "|R2HSRI3D6E2M9Y|          5|           69|         71|   N|                Y|\n",
            "|R17ARFSDV555EW|          1|           29|         29|   N|                Y|\n",
            "|R3GL5156FFEDQA|          5|           20|         21|   N|                Y|\n",
            "|R29KQJC9PIYWQS|          5|           25|         26|   N|                Y|\n",
            "| RYWUJT2A33VJH|          5|           20|         22|   N|                N|\n",
            "|R1KH5L45CWI30I|          5|           19|         20|   N|                N|\n",
            "|R1RKEBF47UEIVH|          5|           26|         30|   N|                N|\n",
            "|R2WIB8BHF77XIG|          4|           69|         78|   N|                N|\n",
            "|R20T4C0DA38YBD|          5|           22|         23|   N|                Y|\n",
            "| REUKY9DLNJXYF|          4|           21|         22|   N|                Y|\n",
            "|R2OH5QLD7MGJTG|          5|           48|         48|   N|                Y|\n",
            "|R179M7NOS1365W|          5|           88|         91|   N|                Y|\n",
            "|R2NPNCGM6T1JBA|          3|          253|        259|   N|                Y|\n",
            "|R345Z1BTFABFY0|          1|           19|         22|   N|                Y|\n",
            "|R2Z6FGGU3VNCT2|          1|           41|         46|   N|                N|\n",
            "+--------------+-----------+-------------+-----------+----+-----------------+\n",
            "only showing top 20 rows\n",
            "\n"
          ]
        }
      ]
    },
    {
      "cell_type": "code",
      "source": [
        "# Load in a sql function to use columns\n",
        "from pyspark.sql.functions import col\n",
        "\n",
        "# create a new DataFrame that retrieves all the rows where \n",
        "# a review was written as part of the Vine program (paid), vine == 'Y'.\n",
        "vine_df_Y = vine_filtered_df_2.filter(col(\"vine\")=='Y')\n",
        "print(f\"number of Vine reviews: {vine_df_Y.count()}\")\n",
        "vine_df_Y.show()"
      ],
      "metadata": {
        "colab": {
          "base_uri": "https://localhost:8080/"
        },
        "id": "OvvCz-xnOx-P",
        "outputId": "414fdcc7-3b9d-400b-c182-c3b60e119d44"
      },
      "execution_count": 28,
      "outputs": [
        {
          "output_type": "stream",
          "name": "stdout",
          "text": [
            "number of Vine reviews: 647\n",
            "+--------------+-----------+-------------+-----------+----+-----------------+\n",
            "|     review_id|star_rating|helpful_votes|total_votes|vine|verified_purchase|\n",
            "+--------------+-----------+-------------+-----------+----+-----------------+\n",
            "|R106V6GUNWRSSS|          5|          857|        889|   Y|                N|\n",
            "|R37N8KZS48W36A|          5|           36|         37|   Y|                N|\n",
            "|R1LNEQ2MQE03PD|          5|           49|         66|   Y|                N|\n",
            "|R1ECPWPUNK36ES|          5|           29|         31|   Y|                N|\n",
            "|R16BUM7UQZLOM6|          3|          107|        112|   Y|                N|\n",
            "| R7NWIOCA5RVPR|          5|           19|         26|   Y|                N|\n",
            "|R3NTGOCUZB33JK|          5|           40|         47|   Y|                Y|\n",
            "| RQX3RHGMG7UBN|          5|          186|        200|   Y|                N|\n",
            "|R3E6QYKZDST042|          4|           33|         39|   Y|                N|\n",
            "|R2GR106PWUN85O|          4|           36|         39|   Y|                N|\n",
            "| R5AJK8HCOKXV5|          4|           20|         23|   Y|                N|\n",
            "| RCHD0PMJO6Y52|          3|           17|         20|   Y|                N|\n",
            "|R1AF6ANE5JFP4D|          5|           50|         55|   Y|                N|\n",
            "|R2FKVTMWD52KEY|          4|          265|        276|   Y|                N|\n",
            "| RZUT8OQAGWOYE|          5|           46|         49|   Y|                N|\n",
            "| RW89H46BTJJWI|          2|           20|         20|   Y|                N|\n",
            "| RQ0N3J1IZKGMA|          1|           63|         63|   Y|                N|\n",
            "|R1Z88KA5VANTXS|          2|           42|         47|   Y|                N|\n",
            "|R3M9NW8LPEKTWX|          5|           20|         21|   Y|                Y|\n",
            "|R16QHBYJJ01R4P|          5|           23|         24|   Y|                N|\n",
            "+--------------+-----------+-------------+-----------+----+-----------------+\n",
            "only showing top 20 rows\n",
            "\n"
          ]
        }
      ]
    },
    {
      "cell_type": "code",
      "source": [
        "# retrieve all the rows where the review was not part of the Vine program (unpaid), vine == 'N'\n",
        "vine_df_N = vine_filtered_df_2.filter(col(\"vine\")=='N')\n",
        "print(vine_df_N.count())\n",
        "print(f\"number of non-Vine reviews: {vine_df_N.count()}\")\n",
        "vine_df_N.show()"
      ],
      "metadata": {
        "colab": {
          "base_uri": "https://localhost:8080/"
        },
        "id": "2bu6-MvBPVwE",
        "outputId": "c5275558-28ce-4160-e508-903f2bf690c1"
      },
      "execution_count": 29,
      "outputs": [
        {
          "output_type": "stream",
          "name": "stdout",
          "text": [
            "74113\n",
            "number of non-Vine reviews: 74113\n",
            "+--------------+-----------+-------------+-----------+----+-----------------+\n",
            "|     review_id|star_rating|helpful_votes|total_votes|vine|verified_purchase|\n",
            "+--------------+-----------+-------------+-----------+----+-----------------+\n",
            "|R2QRUE9REK8OUC|          5|           18|         23|   N|                Y|\n",
            "|R2POXRW6PXHXZG|          5|           25|         30|   N|                Y|\n",
            "|R29Q748WSHZ3SN|          5|           23|         24|   N|                Y|\n",
            "| R46UL5G5HEPRZ|          5|           18|         20|   N|                N|\n",
            "|R2UQHSNWU6WTZX|          5|           74|         76|   N|                N|\n",
            "|R2HSRI3D6E2M9Y|          5|           69|         71|   N|                Y|\n",
            "|R17ARFSDV555EW|          1|           29|         29|   N|                Y|\n",
            "|R3GL5156FFEDQA|          5|           20|         21|   N|                Y|\n",
            "|R29KQJC9PIYWQS|          5|           25|         26|   N|                Y|\n",
            "| RYWUJT2A33VJH|          5|           20|         22|   N|                N|\n",
            "|R1KH5L45CWI30I|          5|           19|         20|   N|                N|\n",
            "|R1RKEBF47UEIVH|          5|           26|         30|   N|                N|\n",
            "|R2WIB8BHF77XIG|          4|           69|         78|   N|                N|\n",
            "|R20T4C0DA38YBD|          5|           22|         23|   N|                Y|\n",
            "| REUKY9DLNJXYF|          4|           21|         22|   N|                Y|\n",
            "|R2OH5QLD7MGJTG|          5|           48|         48|   N|                Y|\n",
            "|R179M7NOS1365W|          5|           88|         91|   N|                Y|\n",
            "|R2NPNCGM6T1JBA|          3|          253|        259|   N|                Y|\n",
            "|R345Z1BTFABFY0|          1|           19|         22|   N|                Y|\n",
            "|R2Z6FGGU3VNCT2|          1|           41|         46|   N|                N|\n",
            "+--------------+-----------+-------------+-----------+----+-----------------+\n",
            "only showing top 20 rows\n",
            "\n"
          ]
        }
      ]
    },
    {
      "cell_type": "code",
      "source": [
        "# Determine the number and % of 5-star reviews (paid vs unpaid).\n",
        "starReview_df_Y = vine_df_Y[vine_df_Y.star_rating == 5].count()\n",
        "percentage_df_Y = (starReview_df_Y/vine_df_Y.count())*100\n",
        "print(f\"number of Vine 5-star reviews: {starReview_df_Y}, percentage: {percentage_df_Y:.2f}\")"
      ],
      "metadata": {
        "colab": {
          "base_uri": "https://localhost:8080/"
        },
        "id": "EKnx9eTSP7Gt",
        "outputId": "2e5fbcff-d3d8-4a65-9910-99b0b134dfbd"
      },
      "execution_count": 39,
      "outputs": [
        {
          "output_type": "stream",
          "name": "stdout",
          "text": [
            "number of Vine 5-star reviews: 229, percentage: 35.39\n"
          ]
        }
      ]
    },
    {
      "cell_type": "code",
      "source": [
        "# Determine the number and % of 5-star reviews (unpaid).\n",
        "starReview_df_N = vine_df_N[vine_df_N.star_rating == 5].count()\n",
        "percentage_df_N = (starReview_df_N/vine_df_N.count())*100\n",
        "print(f\"number of Non-Vine 5-star reviews: {starReview_df_N}, percentage: {percentage_df_N:.2f}\")"
      ],
      "metadata": {
        "colab": {
          "base_uri": "https://localhost:8080/"
        },
        "id": "b_5hhJIzSJ_z",
        "outputId": "0d020fdb-33ce-420a-9b3c-48a342d5b93b"
      },
      "execution_count": 41,
      "outputs": [
        {
          "output_type": "stream",
          "name": "stdout",
          "text": [
            "number of Non-Vine 5-star reviews: 43217, percentage: 58.31\n"
          ]
        }
      ]
    }
  ]
}